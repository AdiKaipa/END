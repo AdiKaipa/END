{
  "nbformat": 4,
  "nbformat_minor": 0,
  "metadata": {
    "colab": {
      "name": "Session3_ Assignment.ipynb",
      "provenance": [],
      "collapsed_sections": [],
      "mount_file_id": "102mGKfywCHz738_8J3SA-wd6kF-bn_2W",
      "authorship_tag": "ABX9TyMl5JNhMxxH08hpomiwm7qq",
      "include_colab_link": true
    },
    "kernelspec": {
      "name": "python3",
      "display_name": "Python 3"
    }
  },
  "cells": [
    {
      "cell_type": "markdown",
      "metadata": {
        "id": "view-in-github",
        "colab_type": "text"
      },
      "source": [
        "<a href=\"https://colab.research.google.com/github/AdiKaipa/END/blob/main/Session3__Assignment.ipynb\" target=\"_parent\"><img src=\"https://colab.research.google.com/assets/colab-badge.svg\" alt=\"Open In Colab\"/></a>"
      ]
    },
    {
      "cell_type": "markdown",
      "metadata": {
        "id": "CQYguB0V09y9"
      },
      "source": [
        "# Question 1\n",
        "Write a function using only list filter lambda that can tell whether a number is a Fibonacci number or not. You can use a pre-calculated list/dict to store fab numbers till 10000"
      ]
    },
    {
      "cell_type": "code",
      "metadata": {
        "id": "Ch6Ra6ea0_yJ",
        "outputId": "a1528a22-fd17-40e9-c76e-92b91fc7edfa",
        "colab": {
          "base_uri": "https://localhost:8080/"
        }
      },
      "source": [
        "def Fibonacci_generation(limit = 10000) -> []:\n",
        "  Fib = [0, 1]\n",
        "  while Fib[-1] + Fib[-2] < limit:\n",
        "    Fib.append(Fib[-1] + Fib[-2])\n",
        "  return Fib\n",
        "Fibonacci = Fibonacci_generation()\n",
        "\n",
        "def is_Fibonacci(Fib: [], val: int) -> bool:\n",
        "  return bool(list(filter(lambda x: x == val, Fib)))\n",
        "print(is_Fibonacci(Fibonacci, 4181))\n",
        "print(is_Fibonacci(Fibonacci, 1940))"
      ],
      "execution_count": 18,
      "outputs": [
        {
          "output_type": "stream",
          "text": [
            "True\n",
            "False\n"
          ],
          "name": "stdout"
        }
      ]
    },
    {
      "cell_type": "markdown",
      "metadata": {
        "id": "QmiuQAf_2xYT"
      },
      "source": [
        "#Question2\n",
        "Using list comprehension (and zip/lambda/etc if required) write five different expressions that\n",
        "1. add 2 iterables a and b such that a is even and b is odd\n",
        "2. strips every vowel from a string provided (tsai>>t s)\n",
        "3. acts like a ReLU function for a 1D array\n",
        "4. acts like a sigmoid function for a 1D array\n",
        "5. takes a small character string and shifts all characters by 5 (handle boundary conditions) tsai>>yxfn"
      ]
    },
    {
      "cell_type": "markdown",
      "metadata": {
        "id": "kbF5MeTV3Osk"
      },
      "source": [
        "# 1. add 2 iterables a and b such that a is even and b is odd"
      ]
    },
    {
      "cell_type": "code",
      "metadata": {
        "id": "YuLtQ5nt3EpA",
        "outputId": "a126e4fe-3524-4316-918e-5938c8516403",
        "colab": {
          "base_uri": "https://localhost:8080/"
        }
      },
      "source": [
        "a = range(0, 10, 2)\n",
        "b = range(1, 11, 2)\n",
        "values = [x + y for x, y in zip(a, b)]\n",
        "print(values)"
      ],
      "execution_count": 19,
      "outputs": [
        {
          "output_type": "stream",
          "text": [
            "[1, 5, 9, 13, 17]\n"
          ],
          "name": "stdout"
        }
      ]
    },
    {
      "cell_type": "markdown",
      "metadata": {
        "id": "9qFz2JWL3aDm"
      },
      "source": [
        "#2. strips every vowel from a string provided (tsai>>t s)"
      ]
    },
    {
      "cell_type": "code",
      "metadata": {
        "id": "NxfYZCYk3g2u",
        "outputId": "02cc59f6-3c21-4e4d-c4d0-dba96541ba8b",
        "colab": {
          "base_uri": "https://localhost:8080/"
        }
      },
      "source": [
        "vowels = \"aeiouAEIOU\"\n",
        "def strip_vowel(string: str) -> str:\n",
        "  s = [ch for ch in string if ch not in vowels]\n",
        "  string_ = ''.join(s)\n",
        "  return string_\n",
        "print(strip_vowel(\"tsai\"))"
      ],
      "execution_count": 20,
      "outputs": [
        {
          "output_type": "stream",
          "text": [
            "ts\n"
          ],
          "name": "stdout"
        }
      ]
    },
    {
      "cell_type": "markdown",
      "metadata": {
        "id": "Z-r3baum4JNu"
      },
      "source": [
        "# 3. acts like a ReLU function for a 1D array"
      ]
    },
    {
      "cell_type": "code",
      "metadata": {
        "id": "uy0j9vx94O31",
        "outputId": "f2a9c942-0051-41d1-dfc3-1a79f24cd443",
        "colab": {
          "base_uri": "https://localhost:8080/"
        }
      },
      "source": [
        "\n",
        "def Relu(a):\n",
        "  return [0 if num < 0 else num for num in a]\n",
        "print(Relu(range(-5, 5)))"
      ],
      "execution_count": 21,
      "outputs": [
        {
          "output_type": "stream",
          "text": [
            "[0, 0, 0, 0, 0, 0, 1, 2, 3, 4]\n"
          ],
          "name": "stdout"
        }
      ]
    },
    {
      "cell_type": "markdown",
      "metadata": {
        "id": "GCblSIA77EJo"
      },
      "source": [
        "#4. acts like a sigmoid function for a 1D array"
      ]
    },
    {
      "cell_type": "code",
      "metadata": {
        "id": "nh3VRZ0s7LLK",
        "outputId": "3253303d-7f38-48f1-d1bd-80cc173c2d29",
        "colab": {
          "base_uri": "https://localhost:8080/"
        }
      },
      "source": [
        "import math\n",
        "def Sigmoid(a):\n",
        "  return [1/(1 + math.exp(-z)) for z in a]\n",
        "print(Sigmoid(range(-5, 5)))"
      ],
      "execution_count": 22,
      "outputs": [
        {
          "output_type": "stream",
          "text": [
            "[0.0066928509242848554, 0.01798620996209156, 0.04742587317756678, 0.11920292202211755, 0.2689414213699951, 0.5, 0.7310585786300049, 0.8807970779778823, 0.9525741268224334, 0.9820137900379085]\n"
          ],
          "name": "stdout"
        }
      ]
    },
    {
      "cell_type": "markdown",
      "metadata": {
        "id": "RI2E_LV07-vx"
      },
      "source": [
        "#5. takes a small character string and shifts all characters by 5 (handle boundary conditions) tsai>>yxfn"
      ]
    },
    {
      "cell_type": "code",
      "metadata": {
        "id": "g-2Rxt5l8Fbk",
        "outputId": "e87774c7-8b85-44aa-ee76-c9efedc2b82f",
        "colab": {
          "base_uri": "https://localhost:8080/"
        }
      },
      "source": [
        "def shift_character(string: str, K = 5) -> str:\n",
        "  s = [chr((ord(ch) - 92) % 26 + 97) for ch in string]\n",
        "  s_string = ''.join(s) \n",
        "  return s_string\n",
        "print(shift_character(\"tsai\"))"
      ],
      "execution_count": 23,
      "outputs": [
        {
          "output_type": "stream",
          "text": [
            "yxfn\n"
          ],
          "name": "stdout"
        }
      ]
    },
    {
      "cell_type": "markdown",
      "metadata": {
        "id": "PljLmHxx8TSe"
      },
      "source": [
        "#Question 3\n",
        "A list comprehension expression that takes a ~200 word paragraph (write your own paragraph to check), and checks whether it has any of the swear words mentioned in https://github.com/RobertJGabriel/Google-profanity-words/blob/master/list.txt"
      ]
    },
    {
      "cell_type": "code",
      "metadata": {
        "id": "ljI9FfYNHHY5",
        "outputId": "f8570a4d-e4e3-40f1-8869-e8c42dec72ad",
        "colab": {
          "base_uri": "https://localhost:8080/"
        }
      },
      "source": [
        "from google.colab import drive \n",
        "drive.mount('/content/drive/')"
      ],
      "execution_count": 1,
      "outputs": [
        {
          "output_type": "stream",
          "text": [
            "Mounted at /content/drive/\n"
          ],
          "name": "stdout"
        }
      ]
    },
    {
      "cell_type": "code",
      "metadata": {
        "id": "hV-RUddpC6Uj",
        "outputId": "c572fca9-4e72-457e-ee59-018c29687bce",
        "colab": {
          "base_uri": "https://localhost:8080/"
        }
      },
      "source": [
        "path = '/content/drive/My Drive/END/list.txt'\n",
        "\n",
        "f = open(path, 'r')\n",
        "list_file = []\n",
        "for _ in f:\n",
        "  list_file.append(f.readline().rstrip('\\n'))\n",
        "print(len(list_file))\n",
        "print(list_file[:10])"
      ],
      "execution_count": 13,
      "outputs": [
        {
          "output_type": "stream",
          "text": [
            "226\n",
            "['5h1t', 'a55', 'anus', 'arrse', 'ass', 'asses', 'assfukka', 'assholes', 'a_s_s', 'b00bs']\n"
          ],
          "name": "stdout"
        }
      ]
    },
    {
      "cell_type": "code",
      "metadata": {
        "id": "74i5HDksIN7J",
        "outputId": "d6c268ed-7d65-4332-8084-4d929e7b6be3",
        "colab": {
          "base_uri": "https://localhost:8080/"
        }
      },
      "source": [
        "story = '''An Ass found a Lion's skin left in the forest by a hunter. He dressed himself in it, and amused himself by hiding in a thicket and rushing out suddenly at the animals who passed that way. All took to their heels the moment they saw him'''\n",
        "sent = story.lower().split()\n",
        "print(sent)"
      ],
      "execution_count": 16,
      "outputs": [
        {
          "output_type": "stream",
          "text": [
            "['an', 'ass', 'found', 'a', \"lion's\", 'skin', 'left', 'in', 'the', 'forest', 'by', 'a', 'hunter.', 'he', 'dressed', 'himself', 'in', 'it,', 'and', 'amused', 'himself', 'by', 'hiding', 'in', 'a', 'thicket', 'and', 'rushing', 'out', 'suddenly', 'at', 'the', 'animals', 'who', 'passed', 'that', 'way.', 'all', 'took', 'to', 'their', 'heels', 'the', 'moment', 'they', 'saw', 'him']\n"
          ],
          "name": "stdout"
        }
      ]
    },
    {
      "cell_type": "code",
      "metadata": {
        "id": "RAyLf3RR0kBc",
        "outputId": "807e24e6-537d-4cfb-dc73-18ea7f640b8e",
        "colab": {
          "base_uri": "https://localhost:8080/"
        }
      },
      "source": [
        "swear_words = [s for s in sent if s in list_file]\n",
        "print(swear_words)"
      ],
      "execution_count": 17,
      "outputs": [
        {
          "output_type": "stream",
          "text": [
            "['ass']\n"
          ],
          "name": "stdout"
        }
      ]
    },
    {
      "cell_type": "markdown",
      "metadata": {
        "id": "qgvChOEo8aNp"
      },
      "source": [
        "#Question 4\n",
        "Using reduce functions\n",
        "1. add only even numbers in a list\n",
        "2. find the biggest character in a string (printable ascii characters)\n",
        "3. adds every 3rd number in a list"
      ]
    },
    {
      "cell_type": "markdown",
      "metadata": {
        "id": "w5Ja5w6DAOb0"
      },
      "source": [
        "#1. add only even numbers in a list"
      ]
    },
    {
      "cell_type": "code",
      "metadata": {
        "id": "naGiKaqHATJx",
        "outputId": "98c16bea-683e-4331-e181-0df4a88d7f93",
        "colab": {
          "base_uri": "https://localhost:8080/"
        }
      },
      "source": [
        "from functools import reduce\n",
        "val = reduce(lambda x, y: x + y,filter(lambda x:x % 2 == 0, range(1, 10)))\n",
        "print(int(val))"
      ],
      "execution_count": 24,
      "outputs": [
        {
          "output_type": "stream",
          "text": [
            "20\n"
          ],
          "name": "stdout"
        }
      ]
    },
    {
      "cell_type": "code",
      "metadata": {
        "id": "V7KnSuSn8kuH",
        "outputId": "5f7364f2-0c7f-455a-af97-971797a33f5b",
        "colab": {
          "base_uri": "https://localhost:8080/"
        }
      },
      "source": [
        "l = [4, 1, 12, 5, 8, 9, 6 ]\n",
        "val = reduce(lambda x, y: x + y if x % 2 == 0 and y % 2 == 0 else (y if y % 2 == 0 else (x if x % 2 == 0 else 0)), l)\n",
        "print(int(val))"
      ],
      "execution_count": 25,
      "outputs": [
        {
          "output_type": "stream",
          "text": [
            "30\n"
          ],
          "name": "stdout"
        }
      ]
    },
    {
      "cell_type": "markdown",
      "metadata": {
        "id": "7mRFdrLTDlkO"
      },
      "source": [
        "#2. find the biggest character in a string (printable ascii characters)"
      ]
    },
    {
      "cell_type": "code",
      "metadata": {
        "id": "UW5EQTn7DvE_",
        "outputId": "03bf9a89-1628-4b85-e91f-1133fc15139b",
        "colab": {
          "base_uri": "https://localhost:8080/"
        }
      },
      "source": [
        "st = \"Hello World!\"\n",
        "char = reduce(lambda x, y: x if x > y else y, st)\n",
        "print(str(char))"
      ],
      "execution_count": 26,
      "outputs": [
        {
          "output_type": "stream",
          "text": [
            "r\n"
          ],
          "name": "stdout"
        }
      ]
    },
    {
      "cell_type": "markdown",
      "metadata": {
        "id": "G9piuXduEAOo"
      },
      "source": [
        "#3. adds every 3rd number in a list"
      ]
    },
    {
      "cell_type": "code",
      "metadata": {
        "id": "VYBnXM-TEIP4",
        "outputId": "22f9cf09-c380-46ba-c67f-6bf1914c27cb",
        "colab": {
          "base_uri": "https://localhost:8080/"
        }
      },
      "source": [
        "l = [4, 5, 6 ,9, 2, 1, 8]\n",
        "val = reduce(lambda x, y: x + y, [x for i, x in enumerate(l) if i % 3 == 0])\n",
        "print(int(val))"
      ],
      "execution_count": 27,
      "outputs": [
        {
          "output_type": "stream",
          "text": [
            "21\n"
          ],
          "name": "stdout"
        }
      ]
    },
    {
      "cell_type": "markdown",
      "metadata": {
        "id": "slehOPxxOOFa"
      },
      "source": [
        "#Question 5\n",
        "Using randint, random.choice and list comprehensions, write an expression that generates 15 random KADDAADDDD number plates, where KA is fixed, D stands for a digit, and A stands for Capital alphabets. 10<<DD<<99 & 1000<<DDDD<<9999"
      ]
    },
    {
      "cell_type": "code",
      "metadata": {
        "id": "2ZpvvE6qONFJ",
        "outputId": "cdb3953e-465a-4d29-b25a-29571b33bef9",
        "colab": {
          "base_uri": "https://localhost:8080/"
        }
      },
      "source": [
        "import random\n",
        "def Generate_numberplate():\n",
        "  return ['KA'+ str(random.randint(10, 99)) + chr(random.randint(65, 90,)) + chr(random.randint(65, 90,)) + str(random.randint(1000, 9999)) for _ in range(15)]\n",
        "print(Generate_numberplate())"
      ],
      "execution_count": 28,
      "outputs": [
        {
          "output_type": "stream",
          "text": [
            "['KA51LK3984', 'KA59YA7025', 'KA74UJ2953', 'KA11IP5085', 'KA50OW3666', 'KA22EW2567', 'KA84IB4978', 'KA40KQ1637', 'KA16DF3414', 'KA22MO7092', 'KA48QP2865', 'KA64CT2256', 'KA34QT4616', 'KA44EI7871', 'KA96UN2874']\n"
          ],
          "name": "stdout"
        }
      ]
    },
    {
      "cell_type": "markdown",
      "metadata": {
        "id": "1p7zW3sXScGV"
      },
      "source": [
        "# Question 6\n",
        "Write the above again from scratch where KA can be changed to DL, and 1000/9999 ranges can be provided"
      ]
    },
    {
      "cell_type": "code",
      "metadata": {
        "id": "hb60tqqsSe9P",
        "outputId": "516c6c93-7c6b-4bab-a83c-fd7bf3a723ca",
        "colab": {
          "base_uri": "https://localhost:8080/"
        }
      },
      "source": [
        "\n",
        "import random\n",
        "choice = ['KA', 'DL']\n",
        "def Generate_numberplate():\n",
        "  return [random.choice(choice)+ str(random.randint(10, 99)) + chr(random.randint(65, 90,)) + chr(random.randint(65, 90,)) + str(random.randint(1000, 9999)) for _ in range(15)]\n",
        "print(Generate_numberplate())"
      ],
      "execution_count": 29,
      "outputs": [
        {
          "output_type": "stream",
          "text": [
            "['KA17UF4470', 'DL10SR6352', 'DL77UE9997', 'KA55IC4636', 'DL13WR5786', 'KA67TJ8869', 'KA81QM8761', 'DL29UY6532', 'DL96YB7740', 'DL99CX4519', 'DL32ZY2070', 'KA15UO5415', 'KA35XG7571', 'KA95LY5956', 'DL15GC3301']\n"
          ],
          "name": "stdout"
        }
      ]
    }
  ]
}