{
  "nbformat": 4,
  "nbformat_minor": 0,
  "metadata": {
    "colab": {
      "name": "Sentiment Analysis on Stanford data .ipynb",
      "provenance": [],
      "collapsed_sections": [],
      "authorship_tag": "ABX9TyM7uKPwWO+1sN+JTrntqcZc",
      "include_colab_link": true
    },
    "kernelspec": {
      "name": "python3",
      "display_name": "Python 3"
    }
  },
  "cells": [
    {
      "cell_type": "markdown",
      "metadata": {
        "id": "view-in-github",
        "colab_type": "text"
      },
      "source": [
        "<a href=\"https://colab.research.google.com/github/AdiKaipa/END/blob/main/Sentiment_Analysis_on_Stanford_data_.ipynb\" target=\"_parent\"><img src=\"https://colab.research.google.com/assets/colab-badge.svg\" alt=\"Open In Colab\"/></a>"
      ]
    },
    {
      "cell_type": "code",
      "metadata": {
        "colab": {
          "base_uri": "https://localhost:8080/"
        },
        "id": "HlQT1pmxlZZ8",
        "outputId": "b96141d7-f340-4b55-d304-870138047ad7"
      },
      "source": [
        "from google.colab import drive \n",
        "drive.mount('/content/drive/')"
      ],
      "execution_count": 94,
      "outputs": [
        {
          "output_type": "stream",
          "text": [
            "Drive already mounted at /content/drive/; to attempt to forcibly remount, call drive.mount(\"/content/drive/\", force_remount=True).\n"
          ],
          "name": "stdout"
        }
      ]
    },
    {
      "cell_type": "code",
      "metadata": {
        "id": "xThjkFxBmFhQ"
      },
      "source": [
        "import pandas as pd\n",
        "import numpy as np\n"
      ],
      "execution_count": 95,
      "outputs": []
    },
    {
      "cell_type": "code",
      "metadata": {
        "id": "-2-9Nfv1me6p"
      },
      "source": [
        "data_path = '/content/drive/MyDrive/END/datasetSentences.txt'\n",
        "label_path = '/content/drive/MyDrive/END/sentiment_labels.txt'\n",
        "dict_path = '/content/drive/MyDrive/END/dictionary.txt'"
      ],
      "execution_count": 96,
      "outputs": []
    },
    {
      "cell_type": "code",
      "metadata": {
        "colab": {
          "base_uri": "https://localhost:8080/"
        },
        "id": "XwZ51I6Jmtwx",
        "outputId": "ec795a53-f6b5-4463-82ec-4dff327b2237"
      },
      "source": [
        "data = pd.read_csv(data_path, sep = '\\t' )\n",
        "label = pd.read_csv(label_path, sep = '|')\n",
        "dictionary = pd.read_csv(dict_path, sep = '|', header=None)\n",
        "print(data.shape)\n",
        "print(label.shape)\n",
        "print(dictionary.shape)"
      ],
      "execution_count": 97,
      "outputs": [
        {
          "output_type": "stream",
          "text": [
            "(11855, 2)\n",
            "(239232, 2)\n",
            "(239232, 2)\n"
          ],
          "name": "stdout"
        }
      ]
    },
    {
      "cell_type": "code",
      "metadata": {
        "id": "sUMc_vKX0-nH"
      },
      "source": [
        "dictionary.columns = [\"phrase\", \"id\"]\r\n",
        "label.columns = [\"id\", \"sentiment\"]"
      ],
      "execution_count": 98,
      "outputs": []
    },
    {
      "cell_type": "code",
      "metadata": {
        "colab": {
          "base_uri": "https://localhost:8080/",
          "height": 197
        },
        "id": "agHDmq5fZhI4",
        "outputId": "791b5f42-5497-458d-9425-9994853c2721"
      },
      "source": [
        "data.head()"
      ],
      "execution_count": 99,
      "outputs": [
        {
          "output_type": "execute_result",
          "data": {
            "text/html": [
              "<div>\n",
              "<style scoped>\n",
              "    .dataframe tbody tr th:only-of-type {\n",
              "        vertical-align: middle;\n",
              "    }\n",
              "\n",
              "    .dataframe tbody tr th {\n",
              "        vertical-align: top;\n",
              "    }\n",
              "\n",
              "    .dataframe thead th {\n",
              "        text-align: right;\n",
              "    }\n",
              "</style>\n",
              "<table border=\"1\" class=\"dataframe\">\n",
              "  <thead>\n",
              "    <tr style=\"text-align: right;\">\n",
              "      <th></th>\n",
              "      <th>sentence_index</th>\n",
              "      <th>sentence</th>\n",
              "    </tr>\n",
              "  </thead>\n",
              "  <tbody>\n",
              "    <tr>\n",
              "      <th>0</th>\n",
              "      <td>1</td>\n",
              "      <td>The Rock is destined to be the 21st Century 's...</td>\n",
              "    </tr>\n",
              "    <tr>\n",
              "      <th>1</th>\n",
              "      <td>2</td>\n",
              "      <td>The gorgeously elaborate continuation of `` Th...</td>\n",
              "    </tr>\n",
              "    <tr>\n",
              "      <th>2</th>\n",
              "      <td>3</td>\n",
              "      <td>Effective but too-tepid biopic</td>\n",
              "    </tr>\n",
              "    <tr>\n",
              "      <th>3</th>\n",
              "      <td>4</td>\n",
              "      <td>If you sometimes like to go to the movies to h...</td>\n",
              "    </tr>\n",
              "    <tr>\n",
              "      <th>4</th>\n",
              "      <td>5</td>\n",
              "      <td>Emerges as something rare , an issue movie tha...</td>\n",
              "    </tr>\n",
              "  </tbody>\n",
              "</table>\n",
              "</div>"
            ],
            "text/plain": [
              "   sentence_index                                           sentence\n",
              "0               1  The Rock is destined to be the 21st Century 's...\n",
              "1               2  The gorgeously elaborate continuation of `` Th...\n",
              "2               3                     Effective but too-tepid biopic\n",
              "3               4  If you sometimes like to go to the movies to h...\n",
              "4               5  Emerges as something rare , an issue movie tha..."
            ]
          },
          "metadata": {
            "tags": []
          },
          "execution_count": 99
        }
      ]
    },
    {
      "cell_type": "code",
      "metadata": {
        "colab": {
          "base_uri": "https://localhost:8080/"
        },
        "id": "Df8C6CpMZwDV",
        "outputId": "1ad6f177-a86a-48fc-dadd-f28d70f62ae8"
      },
      "source": [
        "sentences = data['sentence']\r\n",
        "labels = label[1: data.shape[0]+ 1]['sentiment']\r\n",
        "len(sentences), len(labels)\r\n",
        "\r\n",
        "                      "
      ],
      "execution_count": 100,
      "outputs": [
        {
          "output_type": "execute_result",
          "data": {
            "text/plain": [
              "(11855, 11855)"
            ]
          },
          "metadata": {
            "tags": []
          },
          "execution_count": 100
        }
      ]
    },
    {
      "cell_type": "code",
      "metadata": {
        "colab": {
          "base_uri": "https://localhost:8080/"
        },
        "id": "PakIGFXsG9Fy",
        "outputId": "92076e5d-429c-423b-be63-bc130e32f68d"
      },
      "source": [
        "!pip install googletrans==3.1.0a0"
      ],
      "execution_count": 101,
      "outputs": [
        {
          "output_type": "stream",
          "text": [
            "Requirement already satisfied: googletrans==3.1.0a0 in /usr/local/lib/python3.6/dist-packages (3.1.0a0)\n",
            "Requirement already satisfied: httpx==0.13.3 in /usr/local/lib/python3.6/dist-packages (from googletrans==3.1.0a0) (0.13.3)\n",
            "Requirement already satisfied: idna==2.* in /usr/local/lib/python3.6/dist-packages (from httpx==0.13.3->googletrans==3.1.0a0) (2.10)\n",
            "Requirement already satisfied: chardet==3.* in /usr/local/lib/python3.6/dist-packages (from httpx==0.13.3->googletrans==3.1.0a0) (3.0.4)\n",
            "Requirement already satisfied: hstspreload in /usr/local/lib/python3.6/dist-packages (from httpx==0.13.3->googletrans==3.1.0a0) (2020.11.21)\n",
            "Requirement already satisfied: httpcore==0.9.* in /usr/local/lib/python3.6/dist-packages (from httpx==0.13.3->googletrans==3.1.0a0) (0.9.1)\n",
            "Requirement already satisfied: rfc3986<2,>=1.3 in /usr/local/lib/python3.6/dist-packages (from httpx==0.13.3->googletrans==3.1.0a0) (1.4.0)\n",
            "Requirement already satisfied: certifi in /usr/local/lib/python3.6/dist-packages (from httpx==0.13.3->googletrans==3.1.0a0) (2020.11.8)\n",
            "Requirement already satisfied: sniffio in /usr/local/lib/python3.6/dist-packages (from httpx==0.13.3->googletrans==3.1.0a0) (1.2.0)\n",
            "Requirement already satisfied: h2==3.* in /usr/local/lib/python3.6/dist-packages (from httpcore==0.9.*->httpx==0.13.3->googletrans==3.1.0a0) (3.2.0)\n",
            "Requirement already satisfied: h11<0.10,>=0.8 in /usr/local/lib/python3.6/dist-packages (from httpcore==0.9.*->httpx==0.13.3->googletrans==3.1.0a0) (0.9.0)\n",
            "Requirement already satisfied: contextvars>=2.1; python_version < \"3.7\" in /usr/local/lib/python3.6/dist-packages (from sniffio->httpx==0.13.3->googletrans==3.1.0a0) (2.4)\n",
            "Requirement already satisfied: hyperframe<6,>=5.2.0 in /usr/local/lib/python3.6/dist-packages (from h2==3.*->httpcore==0.9.*->httpx==0.13.3->googletrans==3.1.0a0) (5.2.0)\n",
            "Requirement already satisfied: hpack<4,>=3.0 in /usr/local/lib/python3.6/dist-packages (from h2==3.*->httpcore==0.9.*->httpx==0.13.3->googletrans==3.1.0a0) (3.0.0)\n",
            "Requirement already satisfied: immutables>=0.9 in /usr/local/lib/python3.6/dist-packages (from contextvars>=2.1; python_version < \"3.7\"->sniffio->httpx==0.13.3->googletrans==3.1.0a0) (0.14)\n"
          ],
          "name": "stdout"
        }
      ]
    },
    {
      "cell_type": "code",
      "metadata": {
        "id": "hWecV71QG5df"
      },
      "source": [
        "\r\n",
        "import random\r\n",
        "import googletrans\r\n",
        "from googletrans import Translator\r\n",
        "def Back_Translate(sentence):\r\n",
        "  translator = Translator()\r\n",
        "  #sentence = [sentence]\r\n",
        "  available_langs = list(googletrans.LANGUAGES.keys()) \r\n",
        "  trans_lang = random.choice(available_langs) \r\n",
        "  #print(f\"Translating to {googletrans.LANGUAGES[trans_lang]}\")\r\n",
        "  translations = translator.translate(sentence, dest= trans_lang)\r\n",
        "  t_text = [t.text for t in translations]\r\n",
        "  print(t_text)\r\n",
        "\r\n",
        "  translations_en_random = translator.translate(t_text, src=trans_lang, dest='en')\r\n",
        "  en_text = [t.text for t in translations_en_random]\r\n",
        "  return en_text\r\n",
        "  print(en_text)"
      ],
      "execution_count": 102,
      "outputs": []
    },
    {
      "cell_type": "code",
      "metadata": {
        "id": "Um0af1MQicH3"
      },
      "source": [
        "def random_swap(sentence, n=5): \r\n",
        "    sentence = sentence.split()\r\n",
        "    length = range(len(sentence)) \r\n",
        "    for _ in range(n):\r\n",
        "        idx1, idx2 = random.sample(length, 2)\r\n",
        "        sentence[idx1], sentence[idx2] = sentence[idx2], sentence[idx1] \r\n",
        "    return ' '.join(sentence)"
      ],
      "execution_count": 103,
      "outputs": []
    },
    {
      "cell_type": "code",
      "metadata": {
        "id": "s1F4lycrjTpz"
      },
      "source": [
        "import random\r\n",
        "def random_deletion(words, p=0.5): \r\n",
        "    words = words.split()\r\n",
        "    if len(words) == 1: # return if single word\r\n",
        "        return words\r\n",
        "    remaining = list(filter(lambda x: random.uniform(0,len(words)) > p,words)) \r\n",
        "    if len(remaining) == 0: # if not left, sample a random word\r\n",
        "        return [random.choice(words)] \r\n",
        "    else:\r\n",
        "        return remaining"
      ],
      "execution_count": 104,
      "outputs": []
    },
    {
      "cell_type": "code",
      "metadata": {
        "id": "ddIvz346Iawb"
      },
      "source": [
        "#data_translated = Back_Translate(data['sentence'].tolist())"
      ],
      "execution_count": 105,
      "outputs": []
    },
    {
      "cell_type": "code",
      "metadata": {
        "id": "1A9vLulFewNB"
      },
      "source": [
        "swap_data =[]\r\n",
        "for s in sentences:\r\n",
        "  swap_data.append(random_swap(s))"
      ],
      "execution_count": 106,
      "outputs": []
    },
    {
      "cell_type": "code",
      "metadata": {
        "id": "8mKGWQnAupio"
      },
      "source": [
        "data_swap_random = []\r\n",
        "for s in swap_data:\r\n",
        "  delet = random_deletion(s)\r\n",
        "\r\n",
        "  data_swap_random.append(' '.join(delet))"
      ],
      "execution_count": 107,
      "outputs": []
    },
    {
      "cell_type": "code",
      "metadata": {
        "id": "gvBxYL5ecN7P"
      },
      "source": [
        "sent_label = []\r\n",
        "for x in labels:\r\n",
        "  if x <= 0.2:\r\n",
        "    x = 0\r\n",
        "  elif x<= 0.4:\r\n",
        "    x = 1\r\n",
        "  elif x <=0.6:\r\n",
        "    x = 2\r\n",
        "  elif x <= 0.8:\r\n",
        "    x = 3\r\n",
        "  elif x <= 1.0:\r\n",
        "    x = 4\r\n",
        "  sent_label.append(x)"
      ],
      "execution_count": 108,
      "outputs": []
    },
    {
      "cell_type": "code",
      "metadata": {
        "colab": {
          "base_uri": "https://localhost:8080/"
        },
        "id": "zkxgEfnvcBq_",
        "outputId": "a500ad23-abf6-43dd-e363-d49b7fe7dba5"
      },
      "source": [
        "df = pd.DataFrame(list(zip(data_swap_random, sent_label)), columns = ['tweets', 'labels'])\r\n",
        "df.shape"
      ],
      "execution_count": 109,
      "outputs": [
        {
          "output_type": "execute_result",
          "data": {
            "text/plain": [
              "(11855, 2)"
            ]
          },
          "metadata": {
            "tags": []
          },
          "execution_count": 109
        }
      ]
    },
    {
      "cell_type": "code",
      "metadata": {
        "colab": {
          "base_uri": "https://localhost:8080/",
          "height": 197
        },
        "id": "f7vpfByPdm67",
        "outputId": "eb525a0f-8d27-484a-ea85-746f46086a85"
      },
      "source": [
        "df.head()"
      ],
      "execution_count": 110,
      "outputs": [
        {
          "output_type": "execute_result",
          "data": {
            "text/html": [
              "<div>\n",
              "<style scoped>\n",
              "    .dataframe tbody tr th:only-of-type {\n",
              "        vertical-align: middle;\n",
              "    }\n",
              "\n",
              "    .dataframe tbody tr th {\n",
              "        vertical-align: top;\n",
              "    }\n",
              "\n",
              "    .dataframe thead th {\n",
              "        text-align: right;\n",
              "    }\n",
              "</style>\n",
              "<table border=\"1\" class=\"dataframe\">\n",
              "  <thead>\n",
              "    <tr style=\"text-align: right;\">\n",
              "      <th></th>\n",
              "      <th>tweets</th>\n",
              "      <th>labels</th>\n",
              "    </tr>\n",
              "  </thead>\n",
              "  <tbody>\n",
              "    <tr>\n",
              "      <th>0</th>\n",
              "      <td>The or going destined to be even 21st Century ...</td>\n",
              "      <td>2</td>\n",
              "    </tr>\n",
              "    <tr>\n",
              "      <th>1</th>\n",
              "      <td>The gorgeously elaborate '' of `` Lord The of ...</td>\n",
              "      <td>2</td>\n",
              "    </tr>\n",
              "    <tr>\n",
              "      <th>2</th>\n",
              "      <td>biopic but too-tepid Effective</td>\n",
              "      <td>2</td>\n",
              "    </tr>\n",
              "    <tr>\n",
              "      <th>3</th>\n",
              "      <td>If , you like to to to the movies to have fun ...</td>\n",
              "      <td>2</td>\n",
              "    </tr>\n",
              "    <tr>\n",
              "      <th>4</th>\n",
              "      <td>Emerges n't that as , an issue movie something...</td>\n",
              "      <td>1</td>\n",
              "    </tr>\n",
              "  </tbody>\n",
              "</table>\n",
              "</div>"
            ],
            "text/plain": [
              "                                              tweets  labels\n",
              "0  The or going destined to be even 21st Century ...       2\n",
              "1  The gorgeously elaborate '' of `` Lord The of ...       2\n",
              "2                     biopic but too-tepid Effective       2\n",
              "3  If , you like to to to the movies to have fun ...       2\n",
              "4  Emerges n't that as , an issue movie something...       1"
            ]
          },
          "metadata": {
            "tags": []
          },
          "execution_count": 110
        }
      ]
    },
    {
      "cell_type": "code",
      "metadata": {
        "id": "BXsCL26mDTut"
      },
      "source": [
        "import random \r\n",
        "import torch, torchtext \r\n",
        "from torchtext import data"
      ],
      "execution_count": 111,
      "outputs": []
    },
    {
      "cell_type": "code",
      "metadata": {
        "colab": {
          "base_uri": "https://localhost:8080/"
        },
        "id": "e813rko9bsh1",
        "outputId": "b074ff80-1fab-4d30-e720-ab7031de00ae"
      },
      "source": [
        "SEED = 43\r\n",
        "torch.manual_seed(SEED)"
      ],
      "execution_count": 112,
      "outputs": [
        {
          "output_type": "execute_result",
          "data": {
            "text/plain": [
              "<torch._C.Generator at 0x7f12aff32528>"
            ]
          },
          "metadata": {
            "tags": []
          },
          "execution_count": 112
        }
      ]
    },
    {
      "cell_type": "code",
      "metadata": {
        "id": "mOmk_roXkNO7"
      },
      "source": [
        "Tweet = data.Field(sequential = True, tokenize = 'spacy', batch_first = True,include_lengths = True)\r\n",
        "Label = data.LabelField(tokenize = 'spacy', is_target = True, batch_first = True, sequential = False)"
      ],
      "execution_count": 114,
      "outputs": []
    },
    {
      "cell_type": "code",
      "metadata": {
        "id": "qChxDWr4dyRX"
      },
      "source": [
        "fields = [('tweets', Tweet), ('labels', Label)]"
      ],
      "execution_count": 115,
      "outputs": []
    },
    {
      "cell_type": "code",
      "metadata": {
        "id": "2ydmYFnxi6ej"
      },
      "source": [
        "example = [data.Example.fromlist([df.tweets[i], df.labels[i]], fields) for i in range(df.shape[0])]"
      ],
      "execution_count": 116,
      "outputs": []
    },
    {
      "cell_type": "code",
      "metadata": {
        "id": "-V-tcDgJi9Cv"
      },
      "source": [
        "twitterDataset = data.Dataset(example, fields)"
      ],
      "execution_count": 117,
      "outputs": []
    },
    {
      "cell_type": "code",
      "metadata": {
        "id": "oFCGHMUzjLIO"
      },
      "source": [
        "(train, valid) = twitterDataset.split(split_ratio=[0.85, 0.15], random_state = random.seed(SEED))"
      ],
      "execution_count": 118,
      "outputs": []
    },
    {
      "cell_type": "code",
      "metadata": {
        "colab": {
          "base_uri": "https://localhost:8080/"
        },
        "id": "6pJwvQ8MjUOj",
        "outputId": "c8e2df94-1ce1-4bc2-e59b-1307f0a6c05e"
      },
      "source": [
        "len(train), len(valid)"
      ],
      "execution_count": 119,
      "outputs": [
        {
          "output_type": "execute_result",
          "data": {
            "text/plain": [
              "(10077, 1778)"
            ]
          },
          "metadata": {
            "tags": []
          },
          "execution_count": 119
        }
      ]
    },
    {
      "cell_type": "code",
      "metadata": {
        "colab": {
          "base_uri": "https://localhost:8080/"
        },
        "id": "mRkqfqJmjafk",
        "outputId": "9c277c43-247d-4f24-e8f1-193d1bd3825d"
      },
      "source": [
        "vars(train.examples[0])"
      ],
      "execution_count": 120,
      "outputs": [
        {
          "output_type": "execute_result",
          "data": {
            "text/plain": [
              "{'labels': 3,\n",
              " 'tweets': ['nothing',\n",
              "  'swashbuckling',\n",
              "  '.',\n",
              "  'like',\n",
              "  ',',\n",
              "  'Sometimes',\n",
              "  'satisfies']}"
            ]
          },
          "metadata": {
            "tags": []
          },
          "execution_count": 120
        }
      ]
    },
    {
      "cell_type": "code",
      "metadata": {
        "id": "2mtpS6dAjiCx"
      },
      "source": [
        "Tweet.build_vocab(train)\r\n",
        "Label.build_vocab(train)"
      ],
      "execution_count": 121,
      "outputs": []
    },
    {
      "cell_type": "code",
      "metadata": {
        "colab": {
          "base_uri": "https://localhost:8080/"
        },
        "id": "XvT6-VIrjrW0",
        "outputId": "ae9c7bc4-6ac5-4224-cc90-0395f121b0bc"
      },
      "source": [
        "print(\"Size of input vocab\", len(Tweet.vocab))\r\n",
        "print(\"Size of label vocab\", len(Label.vocab))\r\n",
        "print(\"Top 10 words appeared repeatdly\", list(Tweet.vocab.freqs.most_common(10)))\r\n",
        "print(\"Label: \", Label.vocab.stoi)"
      ],
      "execution_count": 122,
      "outputs": [
        {
          "output_type": "stream",
          "text": [
            "Size of input vocab 18586\n",
            "Size of label vocab 5\n",
            "Top 10 words appeared repeatdly [('.', 9194), (',', 8260), ('the', 7006), ('and', 5117), ('a', 5061), ('of', 5040), ('to', 3510), ('-', 3146), (\"'s\", 2926), ('is', 2899)]\n",
            "Label:  defaultdict(<function _default_unk_index at 0x7f12617ecae8>, {2: 0, 1: 1, 3: 2, 4: 3, 0: 4})\n"
          ],
          "name": "stdout"
        }
      ]
    },
    {
      "cell_type": "code",
      "metadata": {
        "id": "g13e5n-rjsxj"
      },
      "source": [
        "device = torch.device('cuda' if torch.cuda.is_available() else 'cpu')"
      ],
      "execution_count": 123,
      "outputs": []
    },
    {
      "cell_type": "code",
      "metadata": {
        "id": "J4-ifbozj1sF"
      },
      "source": [
        "train_iterator, valid_iterator = data.BucketIterator.splits((train, valid), batch_size = 32, \r\n",
        "                                                     sort_key = lambda x: len(x.tweets),\r\n",
        "                                                     sort_within_batch = True, device = device)"
      ],
      "execution_count": 124,
      "outputs": []
    },
    {
      "cell_type": "code",
      "metadata": {
        "id": "Fp9OWpCxj5yq"
      },
      "source": [
        "import os, pickle \r\n",
        "with open('tokenizer.pkl', 'wb') as tokens:\r\n",
        "  pickle.dump(Tweet.vocab.stoi, tokens)"
      ],
      "execution_count": 125,
      "outputs": []
    },
    {
      "cell_type": "code",
      "metadata": {
        "id": "rWZzKU_Wj9BR"
      },
      "source": [
        "import torch.nn as nn\r\n",
        "import torch.nn.functional as F"
      ],
      "execution_count": 126,
      "outputs": []
    },
    {
      "cell_type": "code",
      "metadata": {
        "id": "T6RhioPSkBla"
      },
      "source": [
        "class Classifier(nn.Module):\r\n",
        "  def __init__(self, vocab_size, embedding_dim, hidden_dim, output_dim, n_layers, dropout):\r\n",
        "    super().__init__()\r\n",
        "    #Embedding Layer\r\n",
        "\r\n",
        "    self.embedding = nn.Embedding(vocab_size, embedding_dim)\r\n",
        "    #LSTM layer\r\n",
        "    self.encoder = nn.LSTM(embedding_dim, \r\n",
        "                           hidden_dim, \r\n",
        "                           num_layers = n_layers, \r\n",
        "                           dropout = dropout, \r\n",
        "                           batch_first = True)\r\n",
        "    self.fc = nn.Linear(hidden_dim, output_dim)\r\n",
        "\r\n",
        "  def forward(self, text, text_lengths):\r\n",
        "    embedded = self.embedding(text)\r\n",
        "    packed_embedded = nn.utils.rnn.pack_padded_sequence(embedded, text_lengths.cpu(), batch_first = True)\r\n",
        "    packed_output, (hidden, cell) = self.encoder(packed_embedded)\r\n",
        "    dense_outputs = self.fc(hidden)\r\n",
        "    output = F.softmax(dense_outputs[0], dim = 1)\r\n",
        "    return output"
      ],
      "execution_count": 127,
      "outputs": []
    },
    {
      "cell_type": "code",
      "metadata": {
        "id": "IkqXA4KzkFgQ"
      },
      "source": [
        "size_of_vocab = len(Tweet.vocab)\r\n",
        "embedding_dim = 300\r\n",
        "num_hidden_nodes = 100\r\n",
        "num_output_nodes = 5\r\n",
        "num_layers = 2\r\n",
        "dropout = 0.2\r\n",
        "model = Classifier(size_of_vocab, embedding_dim, num_hidden_nodes, num_output_nodes, num_layers, dropout)"
      ],
      "execution_count": 135,
      "outputs": []
    },
    {
      "cell_type": "code",
      "metadata": {
        "colab": {
          "base_uri": "https://localhost:8080/"
        },
        "id": "8tqs2H7IkJmy",
        "outputId": "3336216f-d041-40e6-8f71-45bd700bbf8f"
      },
      "source": [
        "print(model)"
      ],
      "execution_count": 136,
      "outputs": [
        {
          "output_type": "stream",
          "text": [
            "Classifier(\n",
            "  (embedding): Embedding(18586, 300)\n",
            "  (encoder): LSTM(300, 100, num_layers=2, batch_first=True, dropout=0.2)\n",
            "  (fc): Linear(in_features=100, out_features=5, bias=True)\n",
            ")\n"
          ],
          "name": "stdout"
        }
      ]
    },
    {
      "cell_type": "code",
      "metadata": {
        "colab": {
          "base_uri": "https://localhost:8080/"
        },
        "id": "dfMoXCmRkK7l",
        "outputId": "f5efa3c0-a466-4ec2-c2b6-e97cc87dbff7"
      },
      "source": [
        "#no. of trainable parameters\r\n",
        "def count_parameters(model):\r\n",
        "  return sum(p.numel() for p in model.parameters() if p.requires_grad)\r\n",
        "\r\n",
        "print(f'model has {count_parameters(model):,} trainable parametrs' )"
      ],
      "execution_count": 137,
      "outputs": [
        {
          "output_type": "stream",
          "text": [
            "model has 5,817,905 trainable parametrs\n"
          ],
          "name": "stdout"
        }
      ]
    },
    {
      "cell_type": "code",
      "metadata": {
        "id": "KI1QwqUNkReI"
      },
      "source": [
        "import torch.optim as optim\r\n",
        "optimizer = optim.Adam(model.parameters(), lr = 2e-4)\r\n",
        "criterion = nn.CrossEntropyLoss()\r\n",
        "\r\n",
        "def binary_accuracy(preds, y):\r\n",
        "  _, predictions = torch.max(preds, 1)\r\n",
        "  correct = (predictions == y).float()\r\n",
        "  acc = correct.sum() / len(correct)\r\n",
        "  return acc\r\n",
        "\r\n",
        "model = model.to(device)\r\n",
        "criterion = criterion.to(device)"
      ],
      "execution_count": 138,
      "outputs": []
    },
    {
      "cell_type": "code",
      "metadata": {
        "id": "wsBKEJyEkWwu"
      },
      "source": [
        "def train(model, iterator, optimizer, criterion):\r\n",
        "  epoch_loss = 0\r\n",
        "  epoch_acc = 0\r\n",
        "  model.train()\r\n",
        "  for batch in iterator:\r\n",
        "    optimizer.zero_grad()\r\n",
        "    tweet, tweet_lengths = batch.tweets \r\n",
        "    predictions = model(tweet, tweet_lengths).squeeze()  \r\n",
        "        \r\n",
        "        # compute the loss\r\n",
        "    loss = criterion(predictions, batch.labels)        \r\n",
        "        \r\n",
        "        # compute the binary accuracy\r\n",
        "    acc = binary_accuracy(predictions, batch.labels)   \r\n",
        "        \r\n",
        "        # backpropage the loss and compute the gradients\r\n",
        "    loss.backward()       \r\n",
        "        \r\n",
        "        # update the weights\r\n",
        "    optimizer.step()      \r\n",
        "        \r\n",
        "        # loss and accuracy\r\n",
        "    epoch_loss += loss.item()  \r\n",
        "    epoch_acc += acc.item()    \r\n",
        "        \r\n",
        "  return epoch_loss / len(iterator), epoch_acc / len(iterator)"
      ],
      "execution_count": 139,
      "outputs": []
    },
    {
      "cell_type": "code",
      "metadata": {
        "id": "nHoENMSTkbmX"
      },
      "source": [
        "def evaluate(model, iterator, criterion):\r\n",
        "    \r\n",
        "    # initialize every epoch\r\n",
        "    epoch_loss = 0\r\n",
        "    epoch_acc = 0\r\n",
        "\r\n",
        "    # deactivating dropout layers\r\n",
        "    model.eval()\r\n",
        "    \r\n",
        "    # deactivates autograd\r\n",
        "    with torch.no_grad():\r\n",
        "    \r\n",
        "        for batch in iterator:\r\n",
        "        \r\n",
        "            # retrieve text and no. of words\r\n",
        "            tweet, tweet_lengths = batch.tweets\r\n",
        "            \r\n",
        "            # convert to 1d tensor\r\n",
        "            predictions = model(tweet, tweet_lengths).squeeze()\r\n",
        "            \r\n",
        "            # compute loss and accuracy\r\n",
        "            loss = criterion(predictions, batch.labels)\r\n",
        "            acc = binary_accuracy(predictions, batch.labels)\r\n",
        "            \r\n",
        "            # keep track of loss and accuracy\r\n",
        "            epoch_loss += loss.item()\r\n",
        "            epoch_acc += acc.item()\r\n",
        "        \r\n",
        "    return epoch_loss / len(iterator), epoch_acc / len(iterator)"
      ],
      "execution_count": 140,
      "outputs": []
    },
    {
      "cell_type": "code",
      "metadata": {
        "colab": {
          "base_uri": "https://localhost:8080/"
        },
        "id": "Vh5_BfmSkhnz",
        "outputId": "9a0e3b6e-9bac-4083-c390-7b9fe40778e7"
      },
      "source": [
        "N_EPOCHS = 10\r\n",
        "best_valid_loss = float('inf')\r\n",
        "\r\n",
        "for epoch in range(N_EPOCHS):\r\n",
        "     \r\n",
        "    # train the model\r\n",
        "    train_loss, train_acc = train(model, train_iterator, optimizer, criterion)\r\n",
        "    \r\n",
        "    # evaluate the model\r\n",
        "    valid_loss, valid_acc = evaluate(model, valid_iterator, criterion)\r\n",
        "    \r\n",
        "    # save the best model\r\n",
        "    if valid_loss < best_valid_loss:\r\n",
        "        best_valid_loss = valid_loss\r\n",
        "        torch.save(model.state_dict(), 'saved_weights.pt')\r\n",
        "    \r\n",
        "    print(f'\\tTrain Loss: {train_loss:.3f} | Train Acc: {train_acc*100:.2f}%')\r\n",
        "    print(f'\\t Val. Loss: {valid_loss:.3f} |  Val. Acc: {valid_acc*100:.2f}% \\n')"
      ],
      "execution_count": 141,
      "outputs": [
        {
          "output_type": "stream",
          "text": [
            "\tTrain Loss: 1.426 | Train Acc: 51.51%\n",
            "\t Val. Loss: 1.386 |  Val. Acc: 52.08% \n",
            "\n",
            "\tTrain Loss: 1.379 | Train Acc: 52.68%\n",
            "\t Val. Loss: 1.385 |  Val. Acc: 52.08% \n",
            "\n",
            "\tTrain Loss: 1.378 | Train Acc: 52.69%\n",
            "\t Val. Loss: 1.385 |  Val. Acc: 52.08% \n",
            "\n",
            "\tTrain Loss: 1.378 | Train Acc: 52.72%\n",
            "\t Val. Loss: 1.385 |  Val. Acc: 52.08% \n",
            "\n",
            "\tTrain Loss: 1.377 | Train Acc: 52.78%\n",
            "\t Val. Loss: 1.385 |  Val. Acc: 52.08% \n",
            "\n",
            "\tTrain Loss: 1.376 | Train Acc: 52.96%\n",
            "\t Val. Loss: 1.385 |  Val. Acc: 52.02% \n",
            "\n",
            "\tTrain Loss: 1.375 | Train Acc: 53.29%\n",
            "\t Val. Loss: 1.385 |  Val. Acc: 51.97% \n",
            "\n",
            "\tTrain Loss: 1.373 | Train Acc: 53.49%\n",
            "\t Val. Loss: 1.385 |  Val. Acc: 51.97% \n",
            "\n",
            "\tTrain Loss: 1.371 | Train Acc: 53.69%\n",
            "\t Val. Loss: 1.385 |  Val. Acc: 51.97% \n",
            "\n",
            "\tTrain Loss: 1.369 | Train Acc: 53.97%\n",
            "\t Val. Loss: 1.385 |  Val. Acc: 52.02% \n",
            "\n"
          ],
          "name": "stdout"
        }
      ]
    },
    {
      "cell_type": "code",
      "metadata": {
        "id": "wSE8IqLzlz02"
      },
      "source": [
        ""
      ],
      "execution_count": null,
      "outputs": []
    }
  ]
}